{
 "cells": [
  {
   "cell_type": "markdown",
   "metadata": {},
   "source": [
    "### Open the file file1.txt\n",
    "### Բացեք file1.txt-ն"
   ]
  },
  {
   "cell_type": "code",
   "execution_count": 1,
   "metadata": {},
   "outputs": [
    {
     "data": {
      "text/plain": [
       "<_io.TextIOWrapper name='data/file1.txt' mode='r' encoding='UTF-8'>"
      ]
     },
     "execution_count": 1,
     "metadata": {},
     "output_type": "execute_result"
    }
   ],
   "source": [
    "open('data/file1.txt')"
   ]
  },
  {
   "cell_type": "markdown",
   "metadata": {},
   "source": [
    "### Get the first 10 lines of the file file1.txt \n",
    "### Ստացեք file1.txt ֆայլի առաջին 10 տողերը"
   ]
  },
  {
   "cell_type": "code",
   "execution_count": 2,
   "metadata": {},
   "outputs": [
    {
     "data": {
      "text/plain": [
       "['This is the 1st line of file1',\n",
       " 'This is the 2nd line of file1',\n",
       " 'This is the 3rd line of file1',\n",
       " 'This is the 4th line of file1',\n",
       " 'This is the 5th line of file1',\n",
       " 'This is the 6th line of file1',\n",
       " 'This is the 7th line of file1',\n",
       " 'This is the 8th line of file1',\n",
       " 'This is the 9th line of file1',\n",
       " 'This is the 10th line of file1This is the 1st line of file2']"
      ]
     },
     "execution_count": 2,
     "metadata": {},
     "output_type": "execute_result"
    }
   ],
   "source": [
    "file1 = open('data/file1.txt', 'r', buffering=1)\n",
    "lines = file1.read().splitlines()\n",
    "first10 = lines[:10]\n",
    "first10"
   ]
  },
  {
   "cell_type": "markdown",
   "metadata": {},
   "source": [
    "### Write a try ... except clause for opening the file\n",
    "### Օգտագործեք try ... except բլոկ ֆայլը բացելու համար"
   ]
  },
  {
   "cell_type": "code",
   "execution_count": 3,
   "metadata": {},
   "outputs": [
    {
     "name": "stdout",
     "output_type": "stream",
     "text": [
      "Exit\n"
     ]
    }
   ],
   "source": [
    "try:\n",
    "    file1 = open('data/file1.txt')\n",
    "except IOError:\n",
    "    print('File not found or path is incorrect')\n",
    "finally:\n",
    "    print('Exit')"
   ]
  },
  {
   "cell_type": "code",
   "execution_count": 4,
   "metadata": {},
   "outputs": [
    {
     "name": "stdout",
     "output_type": "stream",
     "text": [
      "File not found or path is incorrect\n",
      "Exit\n"
     ]
    }
   ],
   "source": [
    "try:\n",
    "    file2 = open('data/not-found.txt')\n",
    "except IOError:\n",
    "    print('File not found or path is incorrect')\n",
    "finally:\n",
    "    print('Exit')"
   ]
  },
  {
   "cell_type": "markdown",
   "metadata": {},
   "source": [
    "### Find the number of lines in the file. \n",
    "### Գտեք ֆայլի տողերի քանակը"
   ]
  },
  {
   "cell_type": "code",
   "execution_count": 12,
   "metadata": {},
   "outputs": [
    {
     "data": {
      "text/plain": [
       "10"
      ]
     },
     "execution_count": 12,
     "metadata": {},
     "output_type": "execute_result"
    }
   ],
   "source": [
    "file1 = open('data/file1.txt')\n",
    "lines = file1.read().splitlines()\n",
    "\n",
    "len(lines)"
   ]
  },
  {
   "cell_type": "markdown",
   "metadata": {},
   "source": [
    "### Create a list each entry of which will be a line from our file. Ignore the new line characters ('\\n').\n",
    "### Ստեղծեք list, որը յուրաքանչյուր տարր իրենից ներկայացնում է մեր ֆայլի մեկ տող, անտեսեք '\\n'-երը"
   ]
  },
  {
   "cell_type": "code",
   "execution_count": 13,
   "metadata": {},
   "outputs": [
    {
     "data": {
      "text/plain": [
       "['This is the 1st line of file1',\n",
       " 'This is the 2nd line of file1',\n",
       " 'This is the 3rd line of file1',\n",
       " 'This is the 4th line of file1',\n",
       " 'This is the 5th line of file1',\n",
       " 'This is the 6th line of file1',\n",
       " 'This is the 7th line of file1',\n",
       " 'This is the 8th line of file1',\n",
       " 'This is the 9th line of file1',\n",
       " 'This is the 10th line of file1']"
      ]
     },
     "execution_count": 13,
     "metadata": {},
     "output_type": "execute_result"
    }
   ],
   "source": [
    "file1 = open('data/file1.txt')\n",
    "lines = file1.read().splitlines()\n",
    "\n",
    "lines"
   ]
  },
  {
   "cell_type": "markdown",
   "metadata": {},
   "source": [
    "### Open and read the file file2.txt\n",
    "### Բացեք և կարդացեք file2.txt ֆայլը"
   ]
  },
  {
   "cell_type": "code",
   "execution_count": 14,
   "metadata": {},
   "outputs": [
    {
     "data": {
      "text/plain": [
       "'This is the 1st line of file2\\nThis is the 2nd line of file2\\nThis is the 3rd line of file2\\nThis is the 4th line of file2\\nThis is the 5th line of file2'"
      ]
     },
     "execution_count": 14,
     "metadata": {},
     "output_type": "execute_result"
    }
   ],
   "source": [
    "file2 = open('data/file2.txt')\n",
    "file2.read()"
   ]
  },
  {
   "cell_type": "markdown",
   "metadata": {},
   "source": [
    "### Read the file file2.txt line by line and write its contents into the new file file3.txt\n",
    "### Տող առ տող կարդացեք file2.txt ֆայլը ու իր պարունակությունը գրեք նոր file3.txt ֆայլում"
   ]
  },
  {
   "cell_type": "code",
   "execution_count": 23,
   "metadata": {},
   "outputs": [],
   "source": [
    "new_file3 = open('data/file3.txt', mode = 'a+', encoding = 'utf-8')\n",
    "file2 = open('data/file2.txt')\n",
    "\n",
    "for line in file2.readlines():\n",
    "    new_file3.write(line)\n",
    "    \n",
    "new_file3.close()"
   ]
  },
  {
   "cell_type": "code",
   "execution_count": 24,
   "metadata": {},
   "outputs": [
    {
     "data": {
      "text/plain": [
       "['This is the 1st line of file2\\n',\n",
       " 'This is the 2nd line of file2\\n',\n",
       " 'This is the 3rd line of file2\\n',\n",
       " 'This is the 4th line of file2\\n',\n",
       " 'This is the 5th line of file2']"
      ]
     },
     "execution_count": 24,
     "metadata": {},
     "output_type": "execute_result"
    }
   ],
   "source": [
    "file3 = open('data/file2.txt')\n",
    "file3.readlines()"
   ]
  },
  {
   "cell_type": "markdown",
   "metadata": {},
   "source": [
    "### Read the file file2.txt line by line and write its contents at the end of the file file1.txt\n",
    "### Տող առ տող կարդացեք file2.txt ֆայլը ու իր պարունակությունը կցեք  file1.txt ֆայլի վերջից"
   ]
  },
  {
   "cell_type": "code",
   "execution_count": 26,
   "metadata": {},
   "outputs": [],
   "source": [
    "file1 = open('data/file1.txt', mode = 'a+', encoding = 'utf-8')\n",
    "file2 = open('data/file2.txt')\n",
    "\n",
    "for line in file2.readlines():\n",
    "    file1.write(line)\n",
    "    \n",
    "file1.close()"
   ]
  },
  {
   "cell_type": "code",
   "execution_count": 27,
   "metadata": {},
   "outputs": [
    {
     "data": {
      "text/plain": [
       "['This is the 1st line of file1\\n',\n",
       " 'This is the 2nd line of file1\\n',\n",
       " 'This is the 3rd line of file1\\n',\n",
       " 'This is the 4th line of file1\\n',\n",
       " 'This is the 5th line of file1\\n',\n",
       " 'This is the 6th line of file1\\n',\n",
       " 'This is the 7th line of file1\\n',\n",
       " 'This is the 8th line of file1\\n',\n",
       " 'This is the 9th line of file1\\n',\n",
       " 'This is the 10th line of file1This is the 1st line of file2\\n',\n",
       " 'This is the 2nd line of file2\\n',\n",
       " 'This is the 3rd line of file2\\n',\n",
       " 'This is the 4th line of file2\\n',\n",
       " 'This is the 5th line of file2']"
      ]
     },
     "execution_count": 27,
     "metadata": {},
     "output_type": "execute_result"
    }
   ],
   "source": [
    "file1 = open('data/file1.txt')\n",
    "file1.readlines()"
   ]
  },
  {
   "cell_type": "markdown",
   "metadata": {},
   "source": [
    "### * Write a Python program to read a random line from the file file1.txt.\n",
    "### Գրեք ծրագիր, որի արդյունքում կստանանք file1.txt ֆայլի մեկ պատահական տող  "
   ]
  },
  {
   "cell_type": "code",
   "execution_count": 36,
   "metadata": {},
   "outputs": [],
   "source": [
    "from random import randrange"
   ]
  },
  {
   "cell_type": "code",
   "execution_count": 42,
   "metadata": {},
   "outputs": [
    {
     "data": {
      "text/plain": [
       "'This is the 4th line of file2\\n'"
      ]
     },
     "execution_count": 42,
     "metadata": {},
     "output_type": "execute_result"
    }
   ],
   "source": [
    "file1 = open('data/file1.txt')\n",
    "lines = file1.readlines()\n",
    "\n",
    "index = randrange(len(lines))\n",
    "lines[index]"
   ]
  },
  {
   "cell_type": "code",
   "execution_count": null,
   "metadata": {},
   "outputs": [],
   "source": []
  }
 ],
 "metadata": {
  "kernelspec": {
   "display_name": "Python 3",
   "language": "python",
   "name": "python3"
  },
  "language_info": {
   "codemirror_mode": {
    "name": "ipython",
    "version": 3
   },
   "file_extension": ".py",
   "mimetype": "text/x-python",
   "name": "python",
   "nbconvert_exporter": "python",
   "pygments_lexer": "ipython3",
   "version": "3.7.6"
  }
 },
 "nbformat": 4,
 "nbformat_minor": 2
}
